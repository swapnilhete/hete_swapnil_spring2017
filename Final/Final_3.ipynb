{
 "cells": [
  {
   "cell_type": "markdown",
   "metadata": {},
   "source": [
    "# Final 3"
   ]
  },
  {
   "cell_type": "code",
   "execution_count": 1,
   "metadata": {
    "collapsed": true
   },
   "outputs": [],
   "source": [
    "import pandas as pd\n",
    "import numpy as np\n",
    "import glob\n",
    "import os\n",
    "import calendar"
   ]
  },
  {
   "cell_type": "code",
   "execution_count": null,
   "metadata": {
    "collapsed": true
   },
   "outputs": [],
   "source": [
    "path =\"E:\\\\NEU Subjects\\\\Sub - Python\\\\Final\\\\Data\\\\Main_Data\\\\\"     # Reading complete data \n",
    "file_list =glob.glob(os.path.join(path,\"*.csv\"))\n",
    "np_array_list =[]                                                   # List to store data from each csv file using for loop\n",
    "for file in file_list:\n",
    "    df=pd.read_csv(file,usecols=['YEAR','ORIGIN_CITY_NAME','DEST_CITY_NAME'])\n",
    "    np_array_list.append(df.as_matrix())\n",
    "    \n",
    "comb_np_array = np.vstack(np_array_list)\n",
    "df = pd.DataFrame(comb_np_array)\n",
    "df.columns=['YEAR','ORIGIN_CITY_NAME','DEST_CITY_NAME']          # Selecting required data\n",
    "df_year =df\n",
    "df.head()"
   ]
  }
 ],
 "metadata": {
  "anaconda-cloud": {},
  "kernelspec": {
   "display_name": "Python [conda root]",
   "language": "python",
   "name": "conda-root-py"
  },
  "language_info": {
   "codemirror_mode": {
    "name": "ipython",
    "version": 3
   },
   "file_extension": ".py",
   "mimetype": "text/x-python",
   "name": "python",
   "nbconvert_exporter": "python",
   "pygments_lexer": "ipython3",
   "version": "3.5.2"
  }
 },
 "nbformat": 4,
 "nbformat_minor": 1
}
