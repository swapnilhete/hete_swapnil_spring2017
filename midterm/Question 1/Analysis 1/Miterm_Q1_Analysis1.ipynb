{
 "cells": [
  {
   "cell_type": "code",
   "execution_count": 40,
   "metadata": {
    "collapsed": false
   },
   "outputs": [],
   "source": [
    "import glob\n",
    "import os\n",
    "import email\n",
    "from email.parser import Parser\n",
    "import csv\n",
    "import datetime\n",
    "import matplotlib.pyplot as plt\n",
    "from dateutil.parser import parse"
   ]
  },
  {
   "cell_type": "code",
   "execution_count": 31,
   "metadata": {
    "collapsed": false
   },
   "outputs": [],
   "source": [
    "file_list = glob.glob('midterm\\data\\enron\\\\*')\n",
    "#print(file_list)\n",
    "sent_item_details={}                   #dictionary to store all sent items and its date\n",
    "date_list =[]                          #List to store all email dates"
   ]
  },
  {
   "cell_type": "code",
   "execution_count": 32,
   "metadata": {
    "collapsed": true
   },
   "outputs": [],
   "source": [
    "def sentFunction(filename):\n",
    "    #print('sent func called')\n",
    "    headers = Parser().parse(open(filename, 'r'))\n",
    "    msgID = headers['Message-ID']\n",
    "    date1 = parse(headers['Date'])\n",
    "    myDate =(date1.strftime('%m/%Y'))\n",
    "    date_list.append(myDate)\n",
    "    sent_item_details.update({msgID: myDate})\n",
    "    #return msgID,d1\n",
    "    "
   ]
  },
  {
   "cell_type": "code",
   "execution_count": 33,
   "metadata": {
    "collapsed": false
   },
   "outputs": [
    {
     "name": "stdout",
     "output_type": "stream",
     "text": [
      "Processing user:midterm\\data\\enron\\allen-p\n",
      "Processing user:midterm\\data\\enron\\arnold-j\n",
      "Processing user:midterm\\data\\enron\\arora-h\n",
      "Processing user:midterm\\data\\enron\\badeer-r\n",
      "Processing user:midterm\\data\\enron\\bailey-s\n",
      "Processing user:midterm\\data\\enron\\bass-e\n",
      "Processing user:midterm\\data\\enron\\baughman-d\n",
      "Processing user:midterm\\data\\enron\\beck-s\n",
      "Processing user:midterm\\data\\enron\\benson-r\n",
      "Processing user:midterm\\data\\enron\\blair-l\n",
      "Processing user:midterm\\data\\enron\\brawner-s\n",
      "Processing user:midterm\\data\\enron\\buy-r\n",
      "Processing user:midterm\\data\\enron\\campbell-l\n",
      "Processing user:midterm\\data\\enron\\carson-m\n",
      "Processing user:midterm\\data\\enron\\cash-m\n",
      "Processing user:midterm\\data\\enron\\causholli-m\n",
      "Processing user:midterm\\data\\enron\\corman-s\n",
      "Processing user:midterm\\data\\enron\\crandell-s\n",
      "Processing user:midterm\\data\\enron\\cuilla-m\n",
      "Processing user:midterm\\data\\enron\\dasovich-j\n",
      "Processing user:midterm\\data\\enron\\davis-d\n",
      "Processing user:midterm\\data\\enron\\dean-c\n",
      "Processing user:midterm\\data\\enron\\delainey-d\n",
      "Processing user:midterm\\data\\enron\\derrick-j\n",
      "Processing user:midterm\\data\\enron\\dickson-s\n",
      "Processing user:midterm\\data\\enron\\donoho-l\n",
      "Processing user:midterm\\data\\enron\\donohoe-t\n",
      "Processing user:midterm\\data\\enron\\dorland-c\n",
      "Processing user:midterm\\data\\enron\\ermis-f\n",
      "Processing user:midterm\\data\\enron\\farmer-d\n",
      "Processing user:midterm\\data\\enron\\fischer-m\n",
      "Processing user:midterm\\data\\enron\\forney-j\n",
      "Processing user:midterm\\data\\enron\\fossum-d\n",
      "Processing user:midterm\\data\\enron\\gang-l\n",
      "Processing user:midterm\\data\\enron\\gay-r\n",
      "Processing user:midterm\\data\\enron\\geaccone-t\n",
      "Processing user:midterm\\data\\enron\\germany-c\n",
      "Processing user:midterm\\data\\enron\\gilbertsmith-d\n",
      "Processing user:midterm\\data\\enron\\giron-d\n",
      "Processing user:midterm\\data\\enron\\griffith-j\n",
      "Processing user:midterm\\data\\enron\\grigsby-m\n",
      "Processing user:midterm\\data\\enron\\guzman-m\n",
      "Processing user:midterm\\data\\enron\\haedicke-m\n",
      "Processing user:midterm\\data\\enron\\hain-m\n",
      "Processing user:midterm\\data\\enron\\harris-s\n",
      "Processing user:midterm\\data\\enron\\hayslett-r\n",
      "Processing user:midterm\\data\\enron\\heard-m\n",
      "Processing user:midterm\\data\\enron\\hendrickson-s\n",
      "Processing user:midterm\\data\\enron\\hernandez-j\n",
      "Processing user:midterm\\data\\enron\\hodge-j\n",
      "Processing user:midterm\\data\\enron\\holst-k\n",
      "Processing user:midterm\\data\\enron\\horton-s\n",
      "Processing user:midterm\\data\\enron\\hyatt-k\n",
      "Processing user:midterm\\data\\enron\\hyvl-d\n",
      "Processing user:midterm\\data\\enron\\jones-t\n",
      "Processing user:midterm\\data\\enron\\kaminski-v\n",
      "Processing user:midterm\\data\\enron\\kean-s\n",
      "Processing user:midterm\\data\\enron\\keavey-p\n",
      "Processing user:midterm\\data\\enron\\keiser-k\n",
      "Processing user:midterm\\data\\enron\\king-j\n",
      "Processing user:midterm\\data\\enron\\kitchen-l\n",
      "Processing user:midterm\\data\\enron\\kuykendall-t\n",
      "Processing user:midterm\\data\\enron\\lavorato-j\n",
      "Processing user:midterm\\data\\enron\\lay-k\n",
      "Processing user:midterm\\data\\enron\\lenhart-m\n",
      "Processing user:midterm\\data\\enron\\lewis-a\n",
      "Processing user:midterm\\data\\enron\\linder-e\n",
      "Processing user:midterm\\data\\enron\\lokay-m\n",
      "Processing user:midterm\\data\\enron\\lokey-t\n",
      "Processing user:midterm\\data\\enron\\love-p\n",
      "Processing user:midterm\\data\\enron\\lucci-p\n",
      "Processing user:midterm\\data\\enron\\maggi-m\n",
      "Processing user:midterm\\data\\enron\\mann-k\n",
      "Processing user:midterm\\data\\enron\\martin-t\n",
      "Processing user:midterm\\data\\enron\\may-l\n",
      "Processing user:midterm\\data\\enron\\mccarty-d\n",
      "Processing user:midterm\\data\\enron\\mcconnell-m\n",
      "Processing user:midterm\\data\\enron\\mckay-b\n",
      "Processing user:midterm\\data\\enron\\mckay-j\n",
      "Processing user:midterm\\data\\enron\\mclaughlin-e\n",
      "Processing user:midterm\\data\\enron\\merriss-s\n",
      "Processing user:midterm\\data\\enron\\meyers-a\n",
      "Processing user:midterm\\data\\enron\\mims-thurston-p\n",
      "Processing user:midterm\\data\\enron\\motley-m\n",
      "Processing user:midterm\\data\\enron\\neal-s\n",
      "Processing user:midterm\\data\\enron\\nemec-g\n",
      "Processing user:midterm\\data\\enron\\panus-s\n",
      "Processing user:midterm\\data\\enron\\parks-j\n",
      "Processing user:midterm\\data\\enron\\pereira-s\n",
      "sent folder is not present for: midterm\\data\\enron\\pereira-s\\sent_items\n",
      "Processing user:midterm\\data\\enron\\perlingiere-d\n",
      "Processing user:midterm\\data\\enron\\phanis-s\n",
      "Processing user:midterm\\data\\enron\\pimenov-v\n",
      "Processing user:midterm\\data\\enron\\platter-p\n",
      "Processing user:midterm\\data\\enron\\presto-k\n",
      "Processing user:midterm\\data\\enron\\quenet-j\n",
      "Processing user:midterm\\data\\enron\\quigley-d\n",
      "Processing user:midterm\\data\\enron\\rapp-b\n",
      "Processing user:midterm\\data\\enron\\reitmeyer-j\n",
      "Processing user:midterm\\data\\enron\\richey-c\n",
      "Processing user:midterm\\data\\enron\\ring-a\n",
      "Processing user:midterm\\data\\enron\\ring-r\n",
      "Processing user:midterm\\data\\enron\\rodrique-r\n",
      "Processing user:midterm\\data\\enron\\rogers-b\n",
      "Processing user:midterm\\data\\enron\\ruscitti-k\n",
      "Processing user:midterm\\data\\enron\\sager-e\n",
      "Processing user:midterm\\data\\enron\\saibi-e\n",
      "Processing user:midterm\\data\\enron\\salisbury-h\n",
      "Processing user:midterm\\data\\enron\\sanchez-m\n",
      "Processing user:midterm\\data\\enron\\sanders-r\n",
      "Processing user:midterm\\data\\enron\\scholtes-d\n",
      "Processing user:midterm\\data\\enron\\schoolcraft-d\n",
      "Processing user:midterm\\data\\enron\\schwieger-j\n",
      "Processing user:midterm\\data\\enron\\scott-s\n",
      "Processing user:midterm\\data\\enron\\semperger-c\n",
      "Processing user:midterm\\data\\enron\\shackleton-s\n",
      "Processing user:midterm\\data\\enron\\shankman-j\n",
      "Processing user:midterm\\data\\enron\\shapiro-r\n",
      "Processing user:midterm\\data\\enron\\shively-h\n",
      "Processing user:midterm\\data\\enron\\skilling-j\n",
      "Processing user:midterm\\data\\enron\\slinger-r\n",
      "Processing user:midterm\\data\\enron\\smith-m\n",
      "Processing user:midterm\\data\\enron\\solberg-g\n",
      "Processing user:midterm\\data\\enron\\south-s\n",
      "Processing user:midterm\\data\\enron\\staab-t\n",
      "Processing user:midterm\\data\\enron\\stclair-c\n",
      "Processing user:midterm\\data\\enron\\steffes-j\n",
      "Processing user:midterm\\data\\enron\\stepenovitch-j\n",
      "Processing user:midterm\\data\\enron\\stokley-c\n",
      "Processing user:midterm\\data\\enron\\storey-g\n",
      "Processing user:midterm\\data\\enron\\sturm-f\n",
      "Processing user:midterm\\data\\enron\\swerzbin-m\n",
      "Processing user:midterm\\data\\enron\\symes-k\n",
      "Processing user:midterm\\data\\enron\\taylor-m\n",
      "Processing user:midterm\\data\\enron\\tholt-j\n",
      "Processing user:midterm\\data\\enron\\thomas-p\n",
      "Processing user:midterm\\data\\enron\\townsend-j\n",
      "Processing user:midterm\\data\\enron\\tycholiz-b\n",
      "Processing user:midterm\\data\\enron\\ward-k\n",
      "Processing user:midterm\\data\\enron\\watson-k\n",
      "Processing user:midterm\\data\\enron\\weldon-c\n",
      "Processing user:midterm\\data\\enron\\whalley-g\n",
      "Processing user:midterm\\data\\enron\\whalley-l\n",
      "Processing user:midterm\\data\\enron\\white-s\n",
      "Processing user:midterm\\data\\enron\\whitt-m\n",
      "Processing user:midterm\\data\\enron\\williams-j\n",
      "Processing user:midterm\\data\\enron\\williams-w3\n",
      "Processing user:midterm\\data\\enron\\wolfe-j\n",
      "Processing user:midterm\\data\\enron\\ybarbo-p\n",
      "Processing user:midterm\\data\\enron\\zipper-a\n",
      "Processing user:midterm\\data\\enron\\zufferli-j\n"
     ]
    },
    {
     "ename": "NameError",
     "evalue": "name 'Print' is not defined",
     "output_type": "error",
     "traceback": [
      "\u001b[0;31m---------------------------------------------------------------------------\u001b[0m",
      "\u001b[0;31mNameError\u001b[0m                                 Traceback (most recent call last)",
      "\u001b[0;32m<ipython-input-33-ab6366b5b283>\u001b[0m in \u001b[0;36m<module>\u001b[0;34m()\u001b[0m\n\u001b[1;32m     19\u001b[0m     \u001b[1;32mexcept\u001b[0m \u001b[0mException\u001b[0m\u001b[1;33m:\u001b[0m\u001b[1;33m\u001b[0m\u001b[0m\n\u001b[1;32m     20\u001b[0m         \u001b[0mprint\u001b[0m\u001b[1;33m(\u001b[0m\u001b[1;34m\"sent folder is not present for: \"\u001b[0m\u001b[1;33m+\u001b[0m\u001b[0mfile\u001b[0m\u001b[1;33m)\u001b[0m\u001b[1;33m\u001b[0m\u001b[0m\n\u001b[0;32m---> 21\u001b[0;31m \u001b[0mPrint\u001b[0m\u001b[1;33m(\u001b[0m\u001b[1;34m'All users processed moving to sent date count'\u001b[0m\u001b[1;33m)\u001b[0m\u001b[1;33m\u001b[0m\u001b[0m\n\u001b[0m",
      "\u001b[0;31mNameError\u001b[0m: name 'Print' is not defined"
     ]
    }
   ],
   "source": [
    "for filename in file_list:\n",
    "    #print('Processing user:'+filename)\n",
    "    try:\n",
    "        file = filename+'\\sent'\n",
    "        if os.path.exists(file):\n",
    "            templist = glob.glob(file+'\\*')\n",
    "            for f1 in templist:\n",
    "                sentFunction(f1)\n",
    "        file = filename+'\\\\_sent_mail'\n",
    "        if os.path.exists(file):\n",
    "            templist = glob.glob(file+'\\*')\n",
    "            for f1 in templist:\n",
    "                sentFunction(f1)\n",
    "        file = filename+'\\\\sent_items'\n",
    "        if os.path.exists(file):\n",
    "            templist = glob.glob(file+'\\*')\n",
    "            for f1 in templist:\n",
    "                sentFunction(f1)\n",
    "    except Exception:\n",
    "        print(\"sent folder is not present for: \"+file) \n",
    "print('All users processed moving to sent date count')"
   ]
  },
  {
   "cell_type": "code",
   "execution_count": 34,
   "metadata": {
    "collapsed": false
   },
   "outputs": [
    {
     "name": "stdout",
     "output_type": "stream",
     "text": [
      "{'03/2001': 7013, '01/2002': 3249, '02/2001': 6871, '06/1999': 250, '08/2000': 5248, '06/2001': 2973, '07/2002': 42, '03/1999': 40, '11/1998': 23, '06/2000': 3862, '10/2000': 6780, '02/2000': 1924, '09/2000': 5549, '03/2002': 908, '01/2000': 2047, '05/2001': 6839, '04/2001': 8263, '12/1998': 49, '11/2001': 6410, '07/2001': 2465, '01/1999': 58, '05/1999': 266, '11/1999': 343, '12/2001': 2598, '09/2001': 3361, '07/2000': 4057, '02/2002': 1467, '10/2001': 7893, '01/2001': 6957, '03/2000': 2513, '08/1999': 373, '02/1999': 34, '06/2002': 189, '04/2002': 313, '04/2000': 2566, '09/1999': 442, '10/1998': 4, '10/1999': 411, '07/1999': 304, '12/1999': 1092, '04/1999': 20, '11/2000': 6922, '05/2002': 157, '08/2001': 3034, '05/2000': 3008, '12/2000': 6495}\n"
     ]
    }
   ],
   "source": [
    "sent_year_count ={}\n",
    "# for x,y in sent_item_details.items():\n",
    "#     sent_count =0\n",
    "#     if y not in sent_year_count.items():\n",
    "#         sent_year_count[y]=1\n",
    "#     else:\n",
    "#         sent_year_count[y]=sent_year_count[y]+1\n",
    "#     sent_year_count.update({myYear:sent_count})\n",
    "# print(sent_year_count)\n",
    "\n",
    "for d in date_list:    #for loop to get count for each word\n",
    "    if d not in sent_year_count:\n",
    "        sent_year_count[d]=1\n",
    "    else:\n",
    "        sent_year_count[d]=sent_year_count[d]+1\n",
    "#print(sent_year_count)"
   ]
  },
  {
   "cell_type": "code",
   "execution_count": 84,
   "metadata": {
    "collapsed": false
   },
   "outputs": [
    {
     "data": {
      "image/png": "[encoded data removed]",
      "text/plain": [
       "<matplotlib.figure.Figure at 0x1e519fc75c0>"
      ]
     },
     "metadata": {},
     "output_type": "display_data"
    }
   ],
   "source": [
    "# ordered_data = sorted(sent_year_count.items(), key = lambda x:datetime.datetime.strptime(x[0],'%m/%Y'))\n",
    "# temp_dic ={}\n",
    "# #print(ordered_data)\n",
    "# tempX =[x[0] for x in ordered_data]\n",
    "# #print(tempX)\n",
    "# tempY = [x[1] for x in ordered_data]\n",
    "# for x in tempX:\n",
    "#     for y in tempY:\n",
    "#         temp_dic.update({x:y})\n",
    "# print(temp_dic)\n",
    "         \n",
    "\n",
    "from pylab import rcParams\n",
    "rcParams['figure.figsize'] = 15, 5\n",
    "plt.xlabel(\"X-Axis : Year\")\n",
    "plt.ylabel(\"Y-axis: No. of email\")\n",
    "plt.title('Sent item year wise')\n",
    "plt.bar(range(len(sent_year_count)), [x[1] for x in sorted(sent_year_count.items(), key = lambda x:datetime.datetime.strptime(x[0],'%m/%Y'))], align='center')\n",
    "plt.xticks(range(len(sent_year_count)), [x[0] for x in sorted(sent_year_count.items(), key = lambda x:datetime.datetime.strptime(x[0],'%m/%Y'))],rotation='vertical')\n",
    "\n",
    "plt.show()"
   ]
  },
  {
   "cell_type": "code",
   "execution_count": 38,
   "metadata": {
    "collapsed": false
   },
   "outputs": [],
   "source": [
    "file = open('sentItem.csv','w',newline='')   # code to write list into CSV\n",
    "writer =csv.writer(file)\n",
    "writer.writerow([ \"Year\",\"Count\"])\n",
    "for x,y in sent_year_count.items(): \n",
    "    writer.writerow([x,y])\n",
    "\n"
   ]
  },
  {
   "cell_type": "code",
   "execution_count": null,
   "metadata": {
    "collapsed": true
   },
   "outputs": [],
   "source": []
  }
 ],
 "metadata": {
  "kernelspec": {
   "display_name": "Python [conda root]",
   "language": "python",
   "name": "conda-root-py"
  },
  "language_info": {
   "codemirror_mode": {
    "name": "ipython",
    "version": 3
   },
   "file_extension": ".py",
   "mimetype": "text/x-python",
   "name": "python",
   "nbconvert_exporter": "python",
   "pygments_lexer": "ipython3",
   "version": "3.5.2"
  }
 },
 "nbformat": 4,
 "nbformat_minor": 1
}
