{
 "cells": [
  {
   "cell_type": "markdown",
   "metadata": {},
   "source": [
    "# Midterm Question 2 Analysis 2"
   ]
  },
  {
   "cell_type": "code",
   "execution_count": 1,
   "metadata": {
    "collapsed": true
   },
   "outputs": [],
   "source": [
    "import requests                                # Lib to work on http request and respponse\n",
    "import json                                    # Lib to handle json files\n",
    "import glob                                    # Lib to handle folders and its content\n",
    "from bs4 import BeautifulSoup as BS\n",
    "import csv                                     # Lib to work with CSV files\n",
    "from dateutil.parser import parse              # Lib to parse date and convert as per requirnment\n",
    "import datetime\n",
    "import matplotlib.pyplot as plt                # Lib to plot a graph"
   ]
  },
  {
   "cell_type": "code",
   "execution_count": null,
   "metadata": {
    "collapsed": true
   },
   "outputs": [],
   "source": [
    "#Code to fetch data from Artical Search , Artical Archieved and Most Popular APT\n",
    "nyt_api = 'https://api.nytimes.com/svc/search/v2/articlesearch.json'\n",
    "#auth_key = 'f85654e3fc17475aa6d7f20a4687434f'\n",
    "auth_key = '7a3f07017a9f40c6b9de8bca324f455b'\n",
    "q='technology'\n",
    "begin_date = '19900101'               #change date to 20000101 \n",
    "end_date = '19991231'                 #Change date to 20151231\n",
    "date = 'begin_date=' + begin_date + '&' + 'end_date=' + end_date + '&'\n",
    "page = 0                              #Maximum limit for pagination\n",
    "pages=120\n",
    "\n",
    "for i in range(0, pages):              # For loop to generated multiple pages\n",
    "    page = i\n",
    "    #url=nyt_api+'?'+'apikey='+ auth_key+'&'+'q='+q+'&'+date+'page='+str(page)\n",
    "    url=nyt_api+'?'+'apikey='+ auth_key+'&'+'q='+q+'&'+'page='+str(page)\n",
    "    response = requests.get(url)\n",
    "    json.dump(response.json(), open(\"midterm/data/technology\"+str(page)+\".json\",'w'))\n",
    "\n",
    "#Most Popular API data fetching\n",
    "auth_key = 'f85654e3fc17475aa6d7f20a4687434f'\n",
    "nyt_api = 'https://api.nytimes.com/svc/mostpopular/v2/mostviewed/technology/30.json'\n",
    "url=nyt_api+'?'+'apikey='+ auth_key\n",
    "response = requests.get(url)\n",
    "json.dump(response.json(), open(\"midterm/data/technologyM.json\",'w'))"
   ]
  },
  {
   "cell_type": "code",
   "execution_count": 114,
   "metadata": {
    "collapsed": false
   },
   "outputs": [],
   "source": [
    "tech_file_list = glob.glob('midterm\\\\data\\\\technology\\\\*.json')     #location where technology related articals are saved\n",
    "tech_details = []\n",
    "#print(tech_file_list)\n",
    "\n",
    "for t in tech_file_list:                                            # Looping through each json file and getting required content\n",
    "    #print(\"processing \"+t)\n",
    "    with open(t) as json_file:\n",
    "        data=json.load(json_file)\n",
    "        temp = len(data[\"response\"]['docs'])\n",
    "        for i in range(temp):\n",
    "            ID = data[\"response\"]['docs'][i]['_id']\n",
    "            lead_paragraph = data[\"response\"]['docs'][i]['lead_paragraph']\n",
    "            section_name = data[\"response\"]['docs'][i]['section_name']\n",
    "            word_count =  data[\"response\"]['docs'][i]['word_count']\n",
    "            pub_date = parse(data[\"response\"]['docs'][i]['pub_date'])\n",
    "            myDate =(pub_date.strftime('%Y/%m/%d'))\n",
    "            tech_details.append([ID,lead_paragraph,section_name,word_count,myDate])\n",
    "\n",
    "file = open('midterm\\\\data\\\\output\\\\technologyDetails.csv','w',newline='',encoding='utf-8')   # code to write list into CSV\n",
    "writer =csv.writer(file)\n",
    "writer.writerow([\"ID\",\"lead_paragraph\",\"section_name\",\"word_count\",\"myDate\"])\n",
    "for x in tech_details:\n",
    "    writer.writerow(x)"
   ]
  },
  {
   "cell_type": "code",
   "execution_count": 116,
   "metadata": {
    "collapsed": false
   },
   "outputs": [],
   "source": [
    "para_details =[]                               # Appending snippet field of each artical into list\n",
    "for t in tech_details:\n",
    "    #category = t[2]\n",
    "    para = t[1]\n",
    "    para_details.append(para)\n",
    "#print(para_details)\n",
    "#print(para_details)\n",
    "#print(len(para_details))\n",
    "            "
   ]
  },
  {
   "cell_type": "code",
   "execution_count": 117,
   "metadata": {
    "collapsed": false
   },
   "outputs": [
    {
     "data": {
      "image/png": "[encoded data removed]",
      "text/plain": [
       "<matplotlib.figure.Figure at 0x1686743c9e8>"
      ]
     },
     "metadata": {},
     "output_type": "display_data"
    }
   ],
   "source": [
    "word_list =[]                                       # Word list for all snippet from articals\n",
    "word_list_clean =[]                                 # Clean words from artical title \n",
    "word_frequency = {}\n",
    "graph_freq ={}\n",
    "\n",
    "for a in para_details:                             \n",
    "    myline = str(a)\n",
    "    templist =myline.split(\" \")\n",
    "    for t in templist:\n",
    "        word_list.append(t.lower())\n",
    "#print(word_list)\n",
    "\n",
    "for e in word_list:                                                # Removing unwated punctuations\n",
    "    s = str(e)\n",
    "    s = re.sub(r'[^\\w\\s]','',s)\n",
    "    word_list_clean.append(s)\n",
    "#print(word_list_clean)\n",
    "\n",
    "for w in word_list_clean:                                         # Counting unique words and storing count in dic.\n",
    "    if w not in word_frequency:\n",
    "        word_frequency[w]=1\n",
    "    else:\n",
    "        word_frequency[w]=word_frequency[w]+1\n",
    "#print(word_frequency)\n",
    "\n",
    "company_list = ['ibm','microsoft','apple','verizon','google','sprint','att','dell','lenovo','sony','oracle','toshiba','sprint','fujistu']\n",
    "\n",
    "# this list is manually created based on word count and fortune 500 IT companies\n",
    "\n",
    "for x,y in word_frequency.items():   # Dictionary for storing graph related data\n",
    "    matchword =x\n",
    "    for c in company_list:\n",
    "        if re.match(c, matchword):\n",
    "            if c not in graph_freq:\n",
    "                graph_freq[c]=y\n",
    "            else:\n",
    "                graph_freq[c]=graph_freq[c]+y\n",
    "#print(graph_freq)\n",
    "\n",
    "from pylab import rcParams\n",
    "rcParams['figure.figsize'] = 15, 5\n",
    "plt.xlabel(\"Company\")\n",
    "plt.ylabel(\"Count\")\n",
    "plt.title('Top 15 companies published in artical')\n",
    "plt.bar(range(len(graph_freq)), graph_freq.values(), align='center')\n",
    "plt.xticks(range(len(graph_freq)), list(graph_freq.keys()),rotation='horizontal')\n",
    "plt.show()"
   ]
  },
  {
   "cell_type": "code",
   "execution_count": null,
   "metadata": {
    "collapsed": true
   },
   "outputs": [],
   "source": []
  }
 ],
 "metadata": {
  "kernelspec": {
   "display_name": "Python [conda root]",
   "language": "python",
   "name": "conda-root-py"
  },
  "language_info": {
   "codemirror_mode": {
    "name": "ipython",
    "version": 3
   },
   "file_extension": ".py",
   "mimetype": "text/x-python",
   "name": "python",
   "nbconvert_exporter": "python",
   "pygments_lexer": "ipython3",
   "version": "3.5.2"
  }
 },
 "nbformat": 4,
 "nbformat_minor": 1
}
