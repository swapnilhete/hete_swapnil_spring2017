{
 "cells": [
  {
   "cell_type": "markdown",
   "metadata": {},
   "source": [
    "# Question 7"
   ]
  },
  {
   "cell_type": "code",
   "execution_count": 60,
   "metadata": {
    "collapsed": false
   },
   "outputs": [
    {
     "data": {
      "text/plain": [
       "['female.txt', 'male.txt']"
      ]
     },
     "execution_count": 60,
     "metadata": {},
     "output_type": "execute_result"
    }
   ],
   "source": [
    "import nltk\n",
    "import string\n",
    "nltk.corpus.names.fileids()"
   ]
  },
  {
   "cell_type": "code",
   "execution_count": 82,
   "metadata": {
    "collapsed": false
   },
   "outputs": [
    {
     "name": "stdout",
     "output_type": "stream",
     "text": [
      "Char.\t Male_Prob\t Female_Prob.\n",
      "c \t 100.0 \t\t 0.0\n",
      "u \t 66.67 \t\t 33.33\n",
      "b \t 70.0 \t\t 30.0\n",
      "k \t 95.83 \t\t 4.17\n",
      "n \t 55.32 \t\t 44.68\n",
      "y \t 41.87 \t\t 58.13\n",
      "f \t 92.59 \t\t 7.41\n",
      "v \t 88.89 \t\t 11.11\n",
      "r \t 80.17 \t\t 19.83\n",
      "t \t 70.69 \t\t 29.31\n",
      "z \t 73.33 \t\t 26.67\n",
      "j \t 75.0 \t\t 25.0\n",
      "w \t 77.27 \t\t 22.73\n",
      "x \t 50.0 \t\t 50.0\n",
      "s \t 71.21 \t\t 28.79\n",
      "p \t 90.0 \t\t 10.0\n",
      "q \t 0 \t\t 0\n",
      "l \t 51.09 \t\t 48.91\n",
      "h \t 46.97 \t\t 53.03\n",
      "i \t 13.62 \t\t 86.38\n",
      "d \t 85.39 \t\t 14.61\n",
      "m \t 84.34 \t\t 15.66\n",
      "a \t 1.61 \t\t 98.39\n",
      "e \t 24.63 \t\t 75.37\n",
      "o \t 83.33 \t\t 16.67\n",
      "g \t 76.19 \t\t 23.81\n"
     ]
    }
   ],
   "source": [
    "female_list = nltk.corpus.names.words('female.txt')   #getting each word as list for both male and female file\n",
    "male_list = nltk.corpus.names.words('male.txt')\n",
    "\n",
    "# Counting female names ending with each charecter in dictionary\n",
    "\n",
    "letter_count_female = dict([(chr(i),0) for i in range(97,123)])\n",
    "for key in letter_count_female:\n",
    "    for f in female_list:\n",
    "        if f[-1:].endswith(key):\n",
    "            letter_count_female[key]+=1\n",
    "#print('Female charecter count dic. is as below')\n",
    "#print(letter_count_female)\n",
    "\n",
    "# Counting male names ending with each charecter in dictionary\n",
    "\n",
    "letter_count_male = dict([(chr(i),0) for i in range(97,123)])\n",
    "for key in letter_count_male:\n",
    "    for f in male_list:\n",
    "        if f[-1:].endswith(key):\n",
    "            letter_count_male[key]+=1\n",
    "#print('Male charecter count dic. is as below')\n",
    "#print(letter_count_male)\n",
    "\n",
    "print('Char.\\t', 'Male_Prob\\t', 'Female_Prob.')\n",
    "\n",
    "# for loop to calculate prob. of each charecter and display result\n",
    "for key in letter_count_female:\n",
    "    try:                              #try block to allow numeretor to be zero and allow division\n",
    "        male_prob = 100 * (letter_count_male[key]/(letter_count_male[key] +letter_count_female[key] ))\n",
    "        female_prob = 100 * ( (letter_count_female[key])/(letter_count_male[key] +letter_count_female[key] ))\n",
    "    except ZeroDivisionError:\n",
    "        male_prob =0\n",
    "        female_prob =0\n",
    "    \n",
    "    print(key,'\\t',round(male_prob, 2),'\\t\\t',round(female_prob,2))"
   ]
  },
  {
   "cell_type": "code",
   "execution_count": null,
   "metadata": {
    "collapsed": true
   },
   "outputs": [],
   "source": []
  },
  {
   "cell_type": "code",
   "execution_count": null,
   "metadata": {
    "collapsed": true
   },
   "outputs": [],
   "source": []
  }
 ],
 "metadata": {
  "kernelspec": {
   "display_name": "Python [conda root]",
   "language": "python",
   "name": "conda-root-py"
  },
  "language_info": {
   "codemirror_mode": {
    "name": "ipython",
    "version": 3
   },
   "file_extension": ".py",
   "mimetype": "text/x-python",
   "name": "python",
   "nbconvert_exporter": "python",
   "pygments_lexer": "ipython3",
   "version": "3.5.2"
  }
 },
 "nbformat": 4,
 "nbformat_minor": 1
}
