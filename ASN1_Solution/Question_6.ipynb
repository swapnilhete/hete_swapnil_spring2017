{
 "cells": [
  {
   "cell_type": "markdown",
   "metadata": {},
   "source": [
    "# Question 6"
   ]
  },
  {
   "cell_type": "code",
   "execution_count": 7,
   "metadata": {
    "collapsed": false
   },
   "outputs": [
    {
     "name": "stdout",
     "output_type": "stream",
     "text": [
      "President- Cleveland unique word count is: 1219\n",
      "President- Harding unique word count is: 1170\n",
      "President- Kennedy unique word count is: 570\n",
      "President- Carter unique word count is: 529\n",
      "President- Obama unique word count is: 938\n",
      "President- Adams unique word count is: 1503\n",
      "President- Nixon unique word count is: 1037\n",
      "President- Buchanan unique word count is: 948\n",
      "President- Eisenhower unique word count is: 1250\n",
      "President- Madison unique word count is: 899\n",
      "President- Washington unique word count is: 663\n",
      "President- Hayes unique word count is: 832\n",
      "President- Bush unique word count is: 1578\n",
      "President- VanBuren unique word count is: 1318\n",
      "President- Truman unique word count is: 781\n",
      "President- Monroe unique word count is: 1781\n",
      "President- Lincoln unique word count is: 1261\n",
      "President- Johnson unique word count is: 571\n",
      "President- Jefferson unique word count is: 1261\n",
      "President- Roosevelt unique word count is: 1704\n",
      "President- Hoover unique word count is: 1087\n",
      "President- Garfield unique word count is: 1022\n",
      "President- Taft unique word count is: 1439\n",
      "President- Coolidge unique word count is: 1221\n",
      "President- Pierce unique word count is: 1168\n",
      "President- Jackson unique word count is: 846\n",
      "President- Reagan unique word count is: 1453\n",
      "President- Harrison unique word count is: 2662\n",
      "President- Wilson unique word count is: 996\n",
      "President- Taylor unique word count is: 499\n",
      "President- Polk unique word count is: 1333\n",
      "President- Grant unique word count is: 855\n",
      "President- McKinley unique word count is: 1682\n",
      "President- Clinton unique word count is: 1138\n"
     ]
    }
   ],
   "source": [
    "import re\n",
    "import nltk\n",
    "pres = nltk.corpus.inaugural.fileids()\n",
    "#print (pres)\n",
    "\n",
    "pres_name = []   #list to store all president's name\n",
    "\n",
    "for p in pres:\n",
    "        mypres =re.findall(r'\\d{4}-(.*).txt', p)  #regex to get president name from file ids\n",
    "        test =mypres[0]\n",
    "        pres_name.append(test)\n",
    "pres_name=set(pres_name)\n",
    "\n",
    "#print(pres_name)\n",
    "    \n",
    "\n",
    "def uniqueWords(x):             #function to calculate unique words and its length for president\n",
    "    wordCount=[]\n",
    "    for p in pres:\n",
    "        mypres =re.findall(r'\\d{4}-(.*).txt', p)\n",
    "        if mypres[0]==x:\n",
    "            text=nltk.corpus.inaugural.words(p)             \n",
    "            for a in text:\n",
    "                wordCount.append(a)                 # Add all words to major list from all .txt files\n",
    "    wordCount=set(wordCount)                     \n",
    "    print('President-',x, 'unique word count is:',len(wordCount))\n",
    "    #print(len(wordCount))\n",
    "\n",
    "\n",
    "for u in pres_name:                      #iteration to call each president name and get unique word count\n",
    "    uniqueWords(u)                      # word count function called\n"
   ]
  },
  {
   "cell_type": "code",
   "execution_count": 3,
   "metadata": {
    "collapsed": false
   },
   "outputs": [
    {
     "ename": "NameError",
     "evalue": "name 'pres' is not defined",
     "output_type": "error",
     "traceback": [
      "\u001b[0;31m---------------------------------------------------------------------------\u001b[0m",
      "\u001b[0;31mNameError\u001b[0m                                 Traceback (most recent call last)",
      "\u001b[0;32m<ipython-input-3-997fd0bae7dd>\u001b[0m in \u001b[0;36m<module>\u001b[0;34m()\u001b[0m\n\u001b[1;32m     12\u001b[0m \u001b[0mpres_name\u001b[0m \u001b[1;33m=\u001b[0m \u001b[1;33m[\u001b[0m\u001b[1;33m]\u001b[0m\u001b[1;33m\u001b[0m\u001b[0m\n\u001b[1;32m     13\u001b[0m \u001b[1;33m\u001b[0m\u001b[0m\n\u001b[0;32m---> 14\u001b[0;31m \u001b[1;32mfor\u001b[0m \u001b[0mp\u001b[0m \u001b[1;32min\u001b[0m \u001b[0mpres\u001b[0m\u001b[1;33m:\u001b[0m\u001b[1;33m\u001b[0m\u001b[0m\n\u001b[0m\u001b[1;32m     15\u001b[0m         \u001b[0mmypres\u001b[0m \u001b[1;33m=\u001b[0m\u001b[0mre\u001b[0m\u001b[1;33m.\u001b[0m\u001b[0mfindall\u001b[0m\u001b[1;33m(\u001b[0m\u001b[1;34mr'\\d{4}-(.*).txt'\u001b[0m\u001b[1;33m,\u001b[0m \u001b[0mp\u001b[0m\u001b[1;33m)\u001b[0m\u001b[1;33m\u001b[0m\u001b[0m\n\u001b[1;32m     16\u001b[0m         \u001b[0mtest\u001b[0m \u001b[1;33m=\u001b[0m\u001b[0mmypres\u001b[0m\u001b[1;33m[\u001b[0m\u001b[1;36m0\u001b[0m\u001b[1;33m]\u001b[0m\u001b[1;33m\u001b[0m\u001b[0m\n",
      "\u001b[0;31mNameError\u001b[0m: name 'pres' is not defined"
     ]
    }
   ],
   "source": [
    "\n"
   ]
  },
  {
   "cell_type": "code",
   "execution_count": null,
   "metadata": {
    "collapsed": true
   },
   "outputs": [],
   "source": []
  }
 ],
 "metadata": {
  "anaconda-cloud": {},
  "kernelspec": {
   "display_name": "Python [conda root]",
   "language": "python",
   "name": "conda-root-py"
  },
  "language_info": {
   "codemirror_mode": {
    "name": "ipython",
    "version": 3
   },
   "file_extension": ".py",
   "mimetype": "text/x-python",
   "name": "python",
   "nbconvert_exporter": "python",
   "pygments_lexer": "ipython3",
   "version": "3.5.2"
  }
 },
 "nbformat": 4,
 "nbformat_minor": 1
}
