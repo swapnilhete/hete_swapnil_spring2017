{
 "cells": [
  {
   "cell_type": "markdown",
   "metadata": {},
   "source": [
    "# Question 1"
   ]
  },
  {
   "cell_type": "code",
   "execution_count": 1,
   "metadata": {
    "collapsed": false,
    "scrolled": true
   },
   "outputs": [
    {
     "data": {
      "text/plain": [
       "['austen-emma.txt',\n",
       " 'austen-persuasion.txt',\n",
       " 'austen-sense.txt',\n",
       " 'bible-kjv.txt',\n",
       " 'blake-poems.txt',\n",
       " 'bryant-stories.txt',\n",
       " 'burgess-busterbrown.txt',\n",
       " 'carroll-alice.txt',\n",
       " 'chesterton-ball.txt',\n",
       " 'chesterton-brown.txt',\n",
       " 'chesterton-thursday.txt',\n",
       " 'edgeworth-parents.txt',\n",
       " 'melville-moby_dick.txt',\n",
       " 'milton-paradise.txt',\n",
       " 'shakespeare-caesar.txt',\n",
       " 'shakespeare-hamlet.txt',\n",
       " 'shakespeare-macbeth.txt',\n",
       " 'whitman-leaves.txt']"
      ]
     },
     "execution_count": 1,
     "metadata": {},
     "output_type": "execute_result"
    }
   ],
   "source": [
    "import nltk\n",
    "nltk.corpus.gutenberg.fileids()  #To view files inside package Gutenberg"
   ]
  },
  {
   "cell_type": "code",
   "execution_count": 12,
   "metadata": {
    "collapsed": false
   },
   "outputs": [
    {
     "name": "stdout",
     "output_type": "stream",
     "text": [
      "Word count in \"austen-persuasion.txt\" are:\n"
     ]
    },
    {
     "data": {
      "text/plain": [
       "98171"
      ]
     },
     "execution_count": 12,
     "metadata": {},
     "output_type": "execute_result"
    }
   ],
   "source": [
    "word_count = nltk.corpus.gutenberg.words('austen-persuasion.txt')   # for getting word count \n",
    "print('Word count in \"austen-persuasion.txt\" are:')\n",
    "len(word_count)"
   ]
  },
  {
   "cell_type": "code",
   "execution_count": 5,
   "metadata": {
    "collapsed": false
   },
   "outputs": [
    {
     "name": "stdout",
     "output_type": "stream",
     "text": [
      "Unique words in \"austen-persuasion.txt\" are:\n"
     ]
    },
    {
     "data": {
      "text/plain": [
       "6132"
      ]
     },
     "execution_count": 5,
     "metadata": {},
     "output_type": "execute_result"
    }
   ],
   "source": [
    "unique_words =  set(word_count) # to get unique word count for austen-persuasion.txt\n",
    "print('Unique words in \"austen-persuasion.txt\" are:')\n",
    "len(unique_words)"
   ]
  },
  {
   "cell_type": "code",
   "execution_count": 121,
   "metadata": {
    "collapsed": false
   },
   "outputs": [
    {
     "name": "stdout",
     "output_type": "stream",
     "text": [
      "Top 10 frequent words\n",
      "freq. word\n",
      "6750 ,\n",
      "3120 the\n",
      "2775 to\n",
      "2741 .\n",
      "2739 and\n",
      "2564 of\n",
      "1529 a\n",
      "1346 in\n",
      "1330 was\n",
      "1290 ;\n"
     ]
    }
   ],
   "source": [
    "frequency ={}      #Dictionary to store word and frequency combination\n",
    "for word in word_count:    #for loop to get count for each word\n",
    "    if word not in frequency:\n",
    "        frequency[word]=1\n",
    "    else:\n",
    "        frequency[word]=frequency[word]+1\n",
    "        \n",
    "frequency_sorted = sorted(frequency.values(),reverse=True)  #sorted dictionary to with largest to smallest count\n",
    "\n",
    "count =0   #variable to control top 10 freq. word\n",
    "print('Top 10 frequent words')\n",
    "print('freq. '+ 'word')\n",
    "for sample in frequency_sorted:  # for loop to get key(word) detailfor each top 10 word\n",
    "    search_item=sample\n",
    "    for key, value in frequency.items():\n",
    "        if value==search_item:\n",
    "            if count < 10:\n",
    "                print(value, key)\n",
    "                count =count+1\n",
    "\n",
    "\n",
    "    "
   ]
  },
  {
   "cell_type": "code",
   "execution_count": null,
   "metadata": {
    "collapsed": true
   },
   "outputs": [],
   "source": []
  },
  {
   "cell_type": "code",
   "execution_count": null,
   "metadata": {
    "collapsed": true
   },
   "outputs": [],
   "source": []
  }
 ],
 "metadata": {
  "anaconda-cloud": {},
  "kernelspec": {
   "display_name": "Python [conda root]",
   "language": "python",
   "name": "conda-root-py"
  },
  "language_info": {
   "codemirror_mode": {
    "name": "ipython",
    "version": 3
   },
   "file_extension": ".py",
   "mimetype": "text/x-python",
   "name": "python",
   "nbconvert_exporter": "python",
   "pygments_lexer": "ipython3",
   "version": "3.5.2"
  }
 },
 "nbformat": 4,
 "nbformat_minor": 1
}
