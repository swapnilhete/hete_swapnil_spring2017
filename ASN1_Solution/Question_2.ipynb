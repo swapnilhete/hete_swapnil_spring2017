{
 "cells": [
  {
   "cell_type": "markdown",
   "metadata": {},
   "source": [
    "# Question 2"
   ]
  },
  {
   "cell_type": "code",
   "execution_count": 48,
   "metadata": {
    "collapsed": false
   },
   "outputs": [
    {
     "name": "stdout",
     "output_type": "stream",
     "text": [
      "Frequency of each charectore is as below \n",
      "e 117092\n",
      "t 87996\n",
      "a 77916\n",
      "o 69326\n",
      "n 65617\n",
      "i 65434\n",
      "s 64231\n",
      "h 62896\n",
      "r 52134\n",
      "l 42793\n",
      "d 38219\n",
      "u 26697\n",
      "m 23277\n",
      "c 22507\n",
      "w 22222\n",
      "f 20833\n",
      "g 20820\n",
      "p 17255\n",
      "b 16877\n",
      "y 16872\n",
      "v 8598\n",
      "k 8059\n",
      "q 1556\n",
      "j 1082\n",
      "x 1030\n",
      "z 632\n"
     ]
    }
   ],
   "source": [
    "import nltk\n",
    "import re   #package for regular expression\n",
    "\n",
    "nltk.corpus.gutenberg.fileids()\n",
    "txt = nltk.corpus.gutenberg.raw('melville-moby_dick.txt')\n",
    "txt_lower = raw_txt.lower()  # convert data to lower case\n",
    "txt_converted = re.findall('[a-z]',txt_lower)  # regex to keep only data from a to z\n",
    "\n",
    "mylist={}   #dictionary to store data\n",
    "for a in txt_converted:   # for loop to get each charecter count\n",
    "    if a not in mylist:\n",
    "        mylist[a]=1\n",
    "    else:\n",
    "        mylist[a]=mylist[a]+1\n",
    "        \n",
    "mylist_sorted= sorted(mylist.values(),reverse=True)  # sorted dictionary to get count in order\n",
    "\n",
    "count =0   #count to terminate program after 26 charector data display\n",
    "print('Frequency of each charectore is as below ')\n",
    "for sample in mylist_sorted:   #for loop to get key for each value and display result in required format\n",
    "    search_item=sample\n",
    "    for key,value in mylist.items():\n",
    "        if value==search_item:\n",
    "            if count < 26:\n",
    "                print(key, value)\n",
    "                count =count+1\n",
    "\n"
   ]
  },
  {
   "cell_type": "code",
   "execution_count": null,
   "metadata": {
    "collapsed": true
   },
   "outputs": [],
   "source": []
  }
 ],
 "metadata": {
  "kernelspec": {
   "display_name": "Python [conda root]",
   "language": "python",
   "name": "conda-root-py"
  },
  "language_info": {
   "codemirror_mode": {
    "name": "ipython",
    "version": 3
   },
   "file_extension": ".py",
   "mimetype": "text/x-python",
   "name": "python",
   "nbconvert_exporter": "python",
   "pygments_lexer": "ipython3",
   "version": "3.5.2"
  }
 },
 "nbformat": 4,
 "nbformat_minor": 1
}
