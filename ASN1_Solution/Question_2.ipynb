{
 "cells": [
  {
   "cell_type": "markdown",
   "metadata": {},
   "source": [
    "# Question 2"
   ]
  },
  {
   "cell_type": "code",
   "execution_count": 8,
   "metadata": {
    "collapsed": false
   },
   "outputs": [
    {
     "name": "stdout",
     "output_type": "stream",
     "text": [
      "Total no. of tokens = 1242990\n",
      "Top 26 High Frequency Words are: [('e', 117091), ('t', 87995), ('a', 77915), ('o', 69325), ('n', 65616), ('i', 65433), ('s', 64230), ('h', 62895), ('r', 52133), ('l', 42792), ('d', 38218), ('u', 26696), ('m', 23276), ('c', 22506), ('w', 22221), ('f', 20832), ('g', 20819), ('p', 17254), ('b', 16876), ('y', 16871), ('v', 8597), ('k', 8058), ('q', 1555), ('j', 1081), ('x', 1029), ('z', 631)]\n"
     ]
    }
   ],
   "source": [
    "import nltk\n",
    "import re\n",
    "\n",
    "words_mobydick =  nltk.corpus.gutenberg.raw('melville-moby_dick.txt') # Get all raw data for 'melville-moby_dick.txt'\n",
    "\n",
    "words_mobydick_lower = [word.lower() for word in words_mobydick]  # convert data into lower case\n",
    "print('Total no. of tokens =',len(words_mobydick_lower))\n",
    "\n",
    "regex = re.compile(\"[^a-zA-Z]\")   # Regex to get only single charector\n",
    "\n",
    "words_mobydick_clean = []\n",
    "\n",
    "for x in words_mobydick_lower:\n",
    "    words_mobydick_clean.append(regex.sub('', x))\n",
    "    \n",
    "words_mobydick_clean = filter(None, words_mobydick_clean)   \n",
    "\n",
    "frequency = {}                     #Count the frequency of each word\n",
    "for w in words_mobydick_clean:\n",
    "    if w not in frequency:  \n",
    "        frequency[w] = 0\n",
    "    else: frequency[w]+=1    \n",
    "\n",
    "    \n",
    "# Get top 26 high frquency words\n",
    "print('Top 26 High Frequency Words are:', sorted(frequency.items(), key=lambda x:x[1],reverse=True)[:26])"
   ]
  },
  {
   "cell_type": "code",
   "execution_count": null,
   "metadata": {
    "collapsed": true
   },
   "outputs": [],
   "source": []
  }
 ],
 "metadata": {
  "kernelspec": {
   "display_name": "Python [conda root]",
   "language": "python",
   "name": "conda-root-py"
  },
  "language_info": {
   "codemirror_mode": {
    "name": "ipython",
    "version": 3
   },
   "file_extension": ".py",
   "mimetype": "text/x-python",
   "name": "python",
   "nbconvert_exporter": "python",
   "pygments_lexer": "ipython3",
   "version": "3.5.2"
  }
 },
 "nbformat": 4,
 "nbformat_minor": 1
}
