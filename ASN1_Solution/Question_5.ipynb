{
 "cells": [
  {
   "cell_type": "markdown",
   "metadata": {},
   "source": [
    "# Question 5\n"
   ]
  },
  {
   "cell_type": "code",
   "execution_count": null,
   "metadata": {
    "collapsed": false
   },
   "outputs": [],
   "source": [
    "from nltk.corpus import stopwords\n",
    "import nltk\n",
    "import re\n",
    "from nltk.corpus import webtext\n",
    "from collections import Counter\n",
    "import operator\n",
    "\n",
    "webtxt_words = webtext.raw(fileids=['firefox.txt', 'grail.txt', 'overheard.txt', 'pirates.txt', 'singles.txt', 'wine.txt'])\n",
    "webtxt_words = webtxt_words.lower()         # convert all text into lower \n",
    "webtxt_words = re.sub(\"'\",\"\",webtxt_words)  # replace \"'\" with none\n",
    "webtext_wordList = re.sub(\"[^\\w]\", \" \",  webtxt_words).split()  #Spliting words\n",
    "webtext_wordList = [word for word in webtext_wordList if word not in stopwords.words('english')]  # filtering out stop words\n",
    "\n",
    "\n",
    "regex = re.compile(\"[^a-zA-Z]\")  # regex to match only capital and small letters\n",
    "\n",
    "frequency = {}        \n",
    "for words in webtext_wordList:         \n",
    "    words = [regex.sub('', words)] \n",
    "    words_set = [x for x in words if x] #deleting empty elements\n",
    "    for z in words_set:\n",
    "        if z not in frequency:  \n",
    "            frequency[z] = 0\n",
    "        else: frequency[z]+=1    \n",
    "\n",
    "#50 high frquency words\n",
    "print('Top 50 High Frequency Words  are:', sorted(frequency.items(), key=lambda x:x[1],reverse=True)[:50])\n",
    "\n",
    "web_top_50 = dict(sorted(frequency.items(), key=operator.itemgetter(1), reverse=True)[:50])\n",
    "\n",
    "shakespeare_words = nltk.corpus.gutenberg.raw(fileids=['shakespeare-caesar.txt', 'shakespeare-hamlet.txt','shakespeare-macbeth.txt'])\n",
    "shakespeare_words = re.sub(\"'\",\"\",shakespeare_words)\n",
    "shakespeare_words = shakespeare_words.lower()\n",
    "shakespeare_wordList = re.sub(\"[^\\w]\", \" \",  shakespeare_words).split()\n",
    "shakespeare_wordList = [word for word in shakespeare_wordList if word not in stopwords.words('english')]\n",
    "\n",
    "\n",
    "frequency_words_shakespeare = {}        \n",
    "for words in shakespeare_wordList:         \n",
    "    words = [regex.sub('', words)] \n",
    "    words_set = [x for x in words if x] #to delete '' empty elements from the list\n",
    "    for z in words_set:\n",
    "        if z not in frequency_words_shakespeare:  \n",
    "            frequency_words_shakespeare[z] = 0\n",
    "        else: frequency_words_shakespeare[z]+=1    \n",
    "\n",
    "    \n",
    "# Get top 50 high frquency words\n",
    "print('\\n' + 'Top 50 High Frequency Words of shakespeare are:', sorted(frequency_words_shakespeare.items(), key=lambda x:x[1],reverse=True)[:50])\n",
    "\n",
    "ss_top50 = dict(sorted(frequency_words_shakespeare.items(), key=operator.itemgetter(1), reverse=True)[:50])\n",
    "\n",
    "# Comparing two word list Shakespeare & Webtext\n",
    "gen = (x for x in ss_top50 if x not in web_top_50)\n",
    "gen = list(gen)\n",
    "print('\\n'+'The Unused Shakespeare list from TOP 50 is as follows:',gen)\n",
    "    \n",
    "# Top 5 elements fom the unsued list - Shakespeare     \n",
    "print('\\n'+'Top 5 elemets :',gen[:5])\n",
    "\n",
    "\n",
    "# Comparison of 2 word lists (Shakespeare & Webtext)\n",
    "gen2 = (x for x in shakespeare_wordList if x not in webtext_wordList)\n",
    "gen2 = list(gen2)\n",
    "\n",
    "# Top 5 elements fom the unsued list - Shakespeare     \n",
    "freq_shakespeare_words2 = {}        \n",
    "for word2 in gen2:         \n",
    "        if word2 not in freq_shakespeare_words2:  \n",
    "            freq_shakespeare_words2[word2] = 0\n",
    "        else: freq_shakespeare_words2[word2]+=1   \n",
    "\n",
    "print('\\n' + 'The top 5 words that Shakespeare used but are uncommon:', sorted(freq_shakespeare_words2.items(), key=lambda x:x[1],reverse=True)[:5])"
   ]
  },
  {
   "cell_type": "code",
   "execution_count": null,
   "metadata": {
    "collapsed": true
   },
   "outputs": [],
   "source": []
  }
 ],
 "metadata": {
  "anaconda-cloud": {},
  "kernelspec": {
   "display_name": "Python [conda root]",
   "language": "python",
   "name": "conda-root-py"
  },
  "language_info": {
   "codemirror_mode": {
    "name": "ipython",
    "version": 3
   },
   "file_extension": ".py",
   "mimetype": "text/x-python",
   "name": "python",
   "nbconvert_exporter": "python",
   "pygments_lexer": "ipython3",
   "version": "3.5.2"
  }
 },
 "nbformat": 4,
 "nbformat_minor": 1
}
