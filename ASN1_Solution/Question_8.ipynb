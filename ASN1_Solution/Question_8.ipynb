{
 "cells": [
  {
   "cell_type": "code",
   "execution_count": 6,
   "metadata": {
    "collapsed": false
   },
   "outputs": [
    {
     "name": "stdout",
     "output_type": "stream",
     "text": [
      "Unusual word lenth is : 2261\n"
     ]
    }
   ],
   "source": [
    "import re\n",
    "from nltk.corpus import nps_chat, words\n",
    "chat_post= nps_chat.fileids()\n",
    "#print(chat_post)\n",
    "std_words = words.words()   # list of all standard words from words corpus\n",
    "posts_words = []            # Master List of all words from nps_chat\n",
    "\n",
    "for c in chat_post:         # for Loop to get all chat words from nps_chat package\n",
    "    raw_txt = nps_chat.raw(c)\n",
    "    myWords=re.findall(r'word=\"(.*)\"', raw_txt)    # regex to filter only words \n",
    "    for m in myWords:\n",
    "        posts_words.append(m)\n",
    "#print(posts_words)\n",
    "correct_list =[]\n",
    "for w in posts_words:                   #for loop to get correct list of words having only charecters and numbers\n",
    "        test_String= str(w)\n",
    "        result =re.search(r'[a-zA-Z0-9]*',test_String.lower())\n",
    "        if result:\n",
    "            correct_list.append(result.group())\n",
    "correct_list1 =[]\n",
    "for x in correct_list:                 #for loop to eliminate numbers\n",
    "        test_String= str(x)\n",
    "        result =re.search(r'[a-zA-Z]*',test_String)\n",
    "        if result:\n",
    "            correct_list1.append(result.group())\n",
    "#print(correct_list1)\n",
    "#final_Post = set(correct_list)    \n",
    "\n",
    "unusual_words=[]\n",
    "unwanted =[]                        \n",
    "for cl in correct_list1:                           #Comparing each word with standard word \n",
    "    if cl in std_words:\n",
    "        unwanted.append(cl)\n",
    "    else:\n",
    "        unusual_words.append(cl) \n",
    "final_Post = set(unusual_words)                   #To get unique value of unusual words\n",
    "#print(final_Post)\n",
    "print(\"Unusual word lenth is :\", len(final_Post))\n"
   ]
  },
  {
   "cell_type": "code",
   "execution_count": null,
   "metadata": {
    "collapsed": true
   },
   "outputs": [],
   "source": []
  }
 ],
 "metadata": {
  "kernelspec": {
   "display_name": "Python [conda root]",
   "language": "python",
   "name": "conda-root-py"
  },
  "language_info": {
   "codemirror_mode": {
    "name": "ipython",
    "version": 3
   },
   "file_extension": ".py",
   "mimetype": "text/x-python",
   "name": "python",
   "nbconvert_exporter": "python",
   "pygments_lexer": "ipython3",
   "version": "3.5.2"
  }
 },
 "nbformat": 4,
 "nbformat_minor": 1
}
