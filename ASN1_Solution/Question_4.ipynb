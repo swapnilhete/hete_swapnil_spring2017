{
 "cells": [
  {
   "cell_type": "markdown",
   "metadata": {},
   "source": [
    "# Question 4"
   ]
  },
  {
   "cell_type": "code",
   "execution_count": 1,
   "metadata": {
    "collapsed": false
   },
   "outputs": [
    {
     "data": {
      "text/plain": [
       "['10-19-20s_706posts.xml',\n",
       " '10-19-30s_705posts.xml',\n",
       " '10-19-40s_686posts.xml',\n",
       " '10-19-adults_706posts.xml',\n",
       " '10-24-40s_706posts.xml',\n",
       " '10-26-teens_706posts.xml',\n",
       " '11-06-adults_706posts.xml',\n",
       " '11-08-20s_705posts.xml',\n",
       " '11-08-40s_706posts.xml',\n",
       " '11-08-adults_705posts.xml',\n",
       " '11-08-teens_706posts.xml',\n",
       " '11-09-20s_706posts.xml',\n",
       " '11-09-40s_706posts.xml',\n",
       " '11-09-adults_706posts.xml',\n",
       " '11-09-teens_706posts.xml']"
      ]
     },
     "execution_count": 1,
     "metadata": {},
     "output_type": "execute_result"
    }
   ],
   "source": [
    "import nltk\n",
    "import re\n",
    "nltk.corpus.nps_chat.fileids()"
   ]
  },
  {
   "cell_type": "code",
   "execution_count": 92,
   "metadata": {
    "collapsed": false
   },
   "outputs": [
    {
     "name": "stdout",
     "output_type": "stream",
     "text": [
      "No. of post posted by user\"User121\" are:\n"
     ]
    },
    {
     "data": {
      "text/plain": [
       "132"
      ]
     },
     "execution_count": 92,
     "metadata": {},
     "output_type": "execute_result"
    }
   ],
   "source": [
    "posts = nltk.corpus.nps_chat.fileids()\n",
    "masterList=[]   #List contains all user details in from nps_chat package\n",
    "for eachPost in posts:    #for loop to get users from xml file\n",
    "    myInput=nltk.corpus.nps_chat.raw(eachPost)\n",
    "    myUser=re.findall(r'user=\"\\d{2}-\\d{2}-(.*)\">', myInput)  # Regex to get only user age and name\n",
    "    for m in myUser:\n",
    "        masterList.append(m)\n",
    "        \n",
    "list_User121 = [s for s in masterList if \"User121\" in s]  #Getting list of User121 from masterList\n",
    "print('No. of post posted by user\"User121\" are:',end='\\n' )\n",
    "len(list_User121)\n",
    "\n",
    "\n"
   ]
  },
  {
   "cell_type": "code",
   "execution_count": 93,
   "metadata": {
    "collapsed": false
   },
   "outputs": [
    {
     "name": "stdout",
     "output_type": "stream",
     "text": [
      "*************Part 2 *********\n",
      "Users in teen 206\n",
      "Users in 20s: 162\n",
      "Users in 30s: 44\n",
      "Users in 40s: 80\n",
      "Users are adults: 138\n"
     ]
    }
   ],
   "source": [
    "print('*************Part 2 *********')\n",
    "list_teen = [m for m in masterList if \"teen\" in m]  #Adding age group to list and getting unique count using set\n",
    "teen = set(list_teen)\n",
    "print('Users in teen',len(teen))\n",
    "\n",
    "list_20s = [m for m in masterList if \"20s\" in m]\n",
    "twenty = set (list_20s)\n",
    "print('Users in 20s:',len(twenty))\n",
    "\n",
    "list_30s = [m for m in masterList if \"30s\" in m]\n",
    "thirty = set(list_30s)\n",
    "print('Users in 30s:',len(thirty))\n",
    "\n",
    "list_40s = [m for m in masterList if \"40s\" in m]\n",
    "fourty = set(list_40s)\n",
    "print('Users in 40s:',len(fourty))\n",
    "\n",
    "list_adults = [m for m in masterList if \"adults\" in m]\n",
    "adults = set(list_adults)\n",
    "print('Users are adults:',len(adults))\n"
   ]
  },
  {
   "cell_type": "code",
   "execution_count": null,
   "metadata": {
    "collapsed": true
   },
   "outputs": [],
   "source": []
  }
 ],
 "metadata": {
  "anaconda-cloud": {},
  "kernelspec": {
   "display_name": "Python [conda root]",
   "language": "python",
   "name": "conda-root-py"
  },
  "language_info": {
   "codemirror_mode": {
    "name": "ipython",
    "version": 3
   },
   "file_extension": ".py",
   "mimetype": "text/x-python",
   "name": "python",
   "nbconvert_exporter": "python",
   "pygments_lexer": "ipython3",
   "version": "3.5.2"
  }
 },
 "nbformat": 4,
 "nbformat_minor": 1
}
