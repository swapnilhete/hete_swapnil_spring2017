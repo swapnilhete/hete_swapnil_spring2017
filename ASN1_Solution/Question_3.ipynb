{
 "cells": [
  {
   "cell_type": "markdown",
   "metadata": {},
   "source": [
    "# Question 3"
   ]
  },
  {
   "cell_type": "code",
   "execution_count": 1,
   "metadata": {
    "collapsed": false
   },
   "outputs": [
    {
     "data": {
      "text/plain": [
       "['firefox.txt',\n",
       " 'grail.txt',\n",
       " 'overheard.txt',\n",
       " 'pirates.txt',\n",
       " 'singles.txt',\n",
       " 'wine.txt']"
      ]
     },
     "execution_count": 1,
     "metadata": {},
     "output_type": "execute_result"
    }
   ],
   "source": [
    "import nltk\n",
    "import re\n",
    "nltk.corpus.webtext.fileids()   #TO display content inside package webtext"
   ]
  },
  {
   "cell_type": "code",
   "execution_count": 27,
   "metadata": {
    "collapsed": false
   },
   "outputs": [
    {
     "name": "stdout",
     "output_type": "stream",
     "text": [
      "No. of lines for Jack Sparrow:\n",
      "193\n",
      "No. of lines for Will Turner:\n",
      "133\n",
      "Jack Sparrow is leading man in movie\n"
     ]
    }
   ],
   "source": [
    "raw_txt = nltk.corpus.webtext.raw('pirates.txt')\n",
    "\n",
    "jack_count = 0  # count for each actor\n",
    "will_count = 0\n",
    "\n",
    "x= re.finditer('JACK SPARROW:', raw_txt) #regular expression to get occurance of each actor name\n",
    "y= re.finditer('WILL TURNER:', raw_txt)\n",
    "for a in x:                             # for looop to count no. of occurance of each actor\n",
    "    jack_count=jack_count+1\n",
    "print('No. of lines for Jack Sparrow:',end='\\n')\n",
    "print(jack_count)\n",
    "\n",
    "for b in y:\n",
    "    will_count=will_count+1\n",
    "print('No. of lines for Will Turner:',end='\\n')\n",
    "print(will_count)\n",
    "if jack_count > will_count:       # logic to display leading actor\n",
    "    print('Jack Sparrow is leading man in movie')\n",
    "else:\n",
    "    print('Will Turner is leading man in movie')"
   ]
  },
  {
   "cell_type": "code",
   "execution_count": null,
   "metadata": {
    "collapsed": true
   },
   "outputs": [],
   "source": []
  }
 ],
 "metadata": {
  "anaconda-cloud": {},
  "kernelspec": {
   "display_name": "Python [conda root]",
   "language": "python",
   "name": "conda-root-py"
  },
  "language_info": {
   "codemirror_mode": {
    "name": "ipython",
    "version": 3
   },
   "file_extension": ".py",
   "mimetype": "text/x-python",
   "name": "python",
   "nbconvert_exporter": "python",
   "pygments_lexer": "ipython3",
   "version": "3.5.2"
  }
 },
 "nbformat": 4,
 "nbformat_minor": 1
}
