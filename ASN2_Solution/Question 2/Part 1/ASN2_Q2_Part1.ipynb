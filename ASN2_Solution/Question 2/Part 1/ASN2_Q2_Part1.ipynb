{
 "cells": [
  {
   "cell_type": "markdown",
   "metadata": {},
   "source": [
    "# Question 2"
   ]
  },
  {
   "cell_type": "code",
   "execution_count": 29,
   "metadata": {
    "collapsed": true
   },
   "outputs": [],
   "source": [
    "import glob  #library for glob fucntion\n",
    "import json  #Library for json file format\n",
    "import os    #Library for OS file directory structure\n",
    "import shutil #Library for copying file"
   ]
  },
  {
   "cell_type": "code",
   "execution_count": 30,
   "metadata": {
    "collapsed": false
   },
   "outputs": [],
   "source": [
    "file_list = glob.glob('Data\\*.json')   # getting list of all  json files from data folder"
   ]
  },
  {
   "cell_type": "code",
   "execution_count": 31,
   "metadata": {
    "collapsed": false
   },
   "outputs": [],
   "source": [
    "for f in file_list:                    #Looping thorugh each json file\n",
    "    with open (f) as json_file:\n",
    "        data=json.load(json_file)\n",
    "        country_name=data[\"location\"][\"country\"]   \n",
    "        state_name=data[\"location\"][\"state\"]\n",
    "        city_name=data[\"location\"][\"city\"]\n",
    "        term_name=data[\"term\"]\n",
    "        folder_name='Data Processed/'+country_name+'/'+state_name+'/'+city_name+'/'+term_name   #Destination folder structure\n",
    "        if not os.path.exists(folder_name):     #Condition to check if folder and subfolder exist\n",
    "            os.makedirs(folder_name)            #Create folder\n",
    "        shutil.copy(f, folder_name)            #Copyiing json file"
   ]
  },
  {
   "cell_type": "code",
   "execution_count": null,
   "metadata": {
    "collapsed": true
   },
   "outputs": [],
   "source": []
  }
 ],
 "metadata": {
  "anaconda-cloud": {},
  "kernelspec": {
   "display_name": "Python [conda root]",
   "language": "python",
   "name": "conda-root-py"
  },
  "language_info": {
   "codemirror_mode": {
    "name": "ipython",
    "version": 3
   },
   "file_extension": ".py",
   "mimetype": "text/x-python",
   "name": "python",
   "nbconvert_exporter": "python",
   "pygments_lexer": "ipython3",
   "version": "3.5.2"
  }
 },
 "nbformat": 4,
 "nbformat_minor": 1
}
