{
 "cells": [
  {
   "cell_type": "markdown",
   "metadata": {},
   "source": [
    "# Question 1"
   ]
  },
  {
   "cell_type": "code",
   "execution_count": 12,
   "metadata": {
    "collapsed": true
   },
   "outputs": [],
   "source": [
    "import nltk\n",
    "import re\n",
    "import operator\n",
    "import glob\n",
    "import csv\n",
    "import math\n",
    "import matplotlib.pyplot as plt"
   ]
  },
  {
   "cell_type": "code",
   "execution_count": 13,
   "metadata": {
    "collapsed": false
   },
   "outputs": [],
   "source": [
    "txt_list = nltk.corpus.inaugural.fileids();     # getting Inauural text files\n",
    "word_repo =[]                                   # Master  word list\n",
    "word_repo_clean =[]                             # Master word list with clean data\n",
    "freq_log= []                                    # List to store log value of frquency of words\n",
    "rank_log =[]                                    # List to store log value of rank of words\n",
    "\n",
    "\n",
    "file_list= glob.glob('C:\\\\Users\\SONY\\Documents\\gutenberg\\*.txt')   #Glob function to get all .txt files from local machine\n",
    "#print(file_list)\n",
    "\n",
    "for f in file_list:\n",
    "    word_list =nltk.corpus.gutenberg.words(f)   # getting only words\n",
    "    for w in word_list:\n",
    "        pattern = re.compile(\"[a-zA-Z]\")        # getting only words that contain alphabets\n",
    "        if pattern.match(w):\n",
    "            word_repo.append(w.lower())\n",
    "#print(word_repo)\n",
    "#len(word_repo)\n",
    "frequency = {}                                  #Declaring dictionary for unique word and its frequency\n",
    "for w in word_repo:\n",
    "    if w not in frequency:\n",
    "        frequency[w]=1\n",
    "    else:\n",
    "        frequency[w]+=1\n",
    "#sorted_frequency = sorted(frequency.items(), key=operator.itemgetter(1), reverse=True)\n",
    "sorted_frequency= (sorted(frequency.items(), key=lambda x:x[1],reverse=True)) # Lamda function to sort \n",
    "#sorting words with frequency in descending order\n",
    "#print(sorted_frequency)\n",
    "#type(sorted_frequency)\n",
    "\n"
   ]
  },
  {
   "cell_type": "code",
   "execution_count": 14,
   "metadata": {
    "collapsed": false
   },
   "outputs": [
    {
     "data": {
      "image/png": "[encoded data removed]",
      "text/plain": [
       "<matplotlib.figure.Figure at 0x167daf752b0>"
      ]
     },
     "metadata": {},
     "output_type": "display_data"
    }
   ],
   "source": [
    "c = 0                 #Count for rank \n",
    "temp =0\n",
    "final_list =[]       # Final list with word, frequency and rank\n",
    "\n",
    "def mylogvalue(a):           #Function to calculate log value\n",
    "    var_log = math.log10(a)\n",
    "    return var_log\n",
    "\n",
    "for x,y in sorted_frequency:  #looping through tuple and each word and frequency\n",
    "    #print(y)\n",
    "    if y!=temp:\n",
    "        c=c+1\n",
    "    else:\n",
    "        c=c\n",
    "    final_list.append([x,y,c])\n",
    "    #var_freq_log =math.log10(y)      # Calculating log values\n",
    "    var_freq_log = mylogvalue(y)\n",
    "    freq_log.append(var_freq_log)\n",
    "    #var_ran_log = math.log10(c)\n",
    "    var_ran_log = mylogvalue(c)\n",
    "    rank_log.append(var_ran_log)\n",
    "    temp=y                           # Changing temp value to compare with previous value in next loop\n",
    "#print(final_list)    #Final list with rank\n",
    "#print(freq_log)\n",
    "#print(rank_log)\n",
    "\n",
    "plt.plot(rank_log,freq_log)\n",
    "plt.title('Zipfslaw example-Gutenberg dataset')\n",
    "plt.xlabel('log(rank)')\n",
    "plt.ylabel('log(frequney)')\n",
    "plt.show()"
   ]
  },
  {
   "cell_type": "code",
   "execution_count": 15,
   "metadata": {
    "collapsed": true
   },
   "outputs": [],
   "source": [
    "file = open('zipfsdemo.csv','w',newline='')   # code to write list into CSV\n",
    "writer =csv.writer(file)\n",
    "writer.writerow([ \"Word\",\"frequency\",\"Rank\"])\n",
    "for b in final_list: \n",
    "    writer.writerow(b)\n",
    "\n"
   ]
  },
  {
   "cell_type": "markdown",
   "metadata": {
    "collapsed": true
   },
   "source": [
    "# Conclusion\n",
    "\n",
    "As per zipf's law frequency of any word is inversely proportional to the rank of a word. Here I have analyzed unique 41534 words from Gutenberg corpus. Word with most no. of occurrence are ranked higher than words with less no. of occurrence are ranked as lower. When the logarithmic value of rank to frequency is plotted on an X-Y plot. It is found that higher the occurrence of a word more is it rank. This holds true for any language words occurrence.As graph is having slope -1 it proves Zipf's law where word with lower frequency are present at the bottom of graph and graph has slightly bulge as there are more words with low frequency. "
   ]
  }
 ],
 "metadata": {
  "anaconda-cloud": {},
  "kernelspec": {
   "display_name": "Python [conda root]",
   "language": "python",
   "name": "conda-root-py"
  },
  "language_info": {
   "codemirror_mode": {
    "name": "ipython",
    "version": 3
   },
   "file_extension": ".py",
   "mimetype": "text/x-python",
   "name": "python",
   "nbconvert_exporter": "python",
   "pygments_lexer": "ipython3",
   "version": "3.5.2"
  }
 },
 "nbformat": 4,
 "nbformat_minor": 1
}
